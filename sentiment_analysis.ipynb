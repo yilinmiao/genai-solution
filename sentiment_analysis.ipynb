{
  "cells": [
    {
      "cell_type": "markdown",
      "metadata": {
        "id": "view-in-github",
        "colab_type": "text"
      },
      "source": [
        "<a href=\"https://colab.research.google.com/github/yilinmiao/genai-solution/blob/main/sentiment_analysis.ipynb\" target=\"_parent\"><img src=\"https://colab.research.google.com/assets/colab-badge.svg\" alt=\"Open In Colab\"/></a>"
      ]
    },
    {
      "cell_type": "code",
      "execution_count": 20,
      "metadata": {
        "id": "0LTgHtDTSN1-"
      },
      "outputs": [],
      "source": [
        "import os\n",
        "from google.colab import userdata\n",
        "\n",
        "os.environ[\"OPENAI_API_KEY\"] = userdata.get('OPENAI_API_KEY')\n",
        "os.environ[\"OPENAI_API_BASE\"] = \"https://api.openai.com/v1\""
      ]
    },
    {
      "cell_type": "code",
      "source": [
        "!pip install langchain-community"
      ],
      "metadata": {
        "colab": {
          "base_uri": "https://localhost:8080/"
        },
        "id": "XIIA3LwfSt4G",
        "outputId": "3804e9df-70ec-4ca5-f87d-0ed78a5346af"
      },
      "execution_count": 21,
      "outputs": [
        {
          "output_type": "stream",
          "name": "stdout",
          "text": [
            "Requirement already satisfied: langchain-community in /usr/local/lib/python3.11/dist-packages (0.3.20)\n",
            "Requirement already satisfied: langchain-core<1.0.0,>=0.3.45 in /usr/local/lib/python3.11/dist-packages (from langchain-community) (0.3.49)\n",
            "Requirement already satisfied: langchain<1.0.0,>=0.3.21 in /usr/local/lib/python3.11/dist-packages (from langchain-community) (0.3.21)\n",
            "Requirement already satisfied: SQLAlchemy<3,>=1.4 in /usr/local/lib/python3.11/dist-packages (from langchain-community) (2.0.40)\n",
            "Requirement already satisfied: requests<3,>=2 in /usr/local/lib/python3.11/dist-packages (from langchain-community) (2.32.3)\n",
            "Requirement already satisfied: PyYAML>=5.3 in /usr/local/lib/python3.11/dist-packages (from langchain-community) (6.0.2)\n",
            "Requirement already satisfied: aiohttp<4.0.0,>=3.8.3 in /usr/local/lib/python3.11/dist-packages (from langchain-community) (3.11.14)\n",
            "Requirement already satisfied: tenacity!=8.4.0,<10,>=8.1.0 in /usr/local/lib/python3.11/dist-packages (from langchain-community) (9.0.0)\n",
            "Requirement already satisfied: dataclasses-json<0.7,>=0.5.7 in /usr/local/lib/python3.11/dist-packages (from langchain-community) (0.6.7)\n",
            "Requirement already satisfied: pydantic-settings<3.0.0,>=2.4.0 in /usr/local/lib/python3.11/dist-packages (from langchain-community) (2.8.1)\n",
            "Requirement already satisfied: langsmith<0.4,>=0.1.125 in /usr/local/lib/python3.11/dist-packages (from langchain-community) (0.3.19)\n",
            "Requirement already satisfied: httpx-sse<1.0.0,>=0.4.0 in /usr/local/lib/python3.11/dist-packages (from langchain-community) (0.4.0)\n",
            "Requirement already satisfied: numpy<3,>=1.26.2 in /usr/local/lib/python3.11/dist-packages (from langchain-community) (2.0.2)\n",
            "Requirement already satisfied: aiohappyeyeballs>=2.3.0 in /usr/local/lib/python3.11/dist-packages (from aiohttp<4.0.0,>=3.8.3->langchain-community) (2.6.1)\n",
            "Requirement already satisfied: aiosignal>=1.1.2 in /usr/local/lib/python3.11/dist-packages (from aiohttp<4.0.0,>=3.8.3->langchain-community) (1.3.2)\n",
            "Requirement already satisfied: attrs>=17.3.0 in /usr/local/lib/python3.11/dist-packages (from aiohttp<4.0.0,>=3.8.3->langchain-community) (25.3.0)\n",
            "Requirement already satisfied: frozenlist>=1.1.1 in /usr/local/lib/python3.11/dist-packages (from aiohttp<4.0.0,>=3.8.3->langchain-community) (1.5.0)\n",
            "Requirement already satisfied: multidict<7.0,>=4.5 in /usr/local/lib/python3.11/dist-packages (from aiohttp<4.0.0,>=3.8.3->langchain-community) (6.2.0)\n",
            "Requirement already satisfied: propcache>=0.2.0 in /usr/local/lib/python3.11/dist-packages (from aiohttp<4.0.0,>=3.8.3->langchain-community) (0.3.1)\n",
            "Requirement already satisfied: yarl<2.0,>=1.17.0 in /usr/local/lib/python3.11/dist-packages (from aiohttp<4.0.0,>=3.8.3->langchain-community) (1.18.3)\n",
            "Requirement already satisfied: marshmallow<4.0.0,>=3.18.0 in /usr/local/lib/python3.11/dist-packages (from dataclasses-json<0.7,>=0.5.7->langchain-community) (3.26.1)\n",
            "Requirement already satisfied: typing-inspect<1,>=0.4.0 in /usr/local/lib/python3.11/dist-packages (from dataclasses-json<0.7,>=0.5.7->langchain-community) (0.9.0)\n",
            "Requirement already satisfied: langchain-text-splitters<1.0.0,>=0.3.7 in /usr/local/lib/python3.11/dist-packages (from langchain<1.0.0,>=0.3.21->langchain-community) (0.3.7)\n",
            "Requirement already satisfied: pydantic<3.0.0,>=2.7.4 in /usr/local/lib/python3.11/dist-packages (from langchain<1.0.0,>=0.3.21->langchain-community) (2.11.0)\n",
            "Requirement already satisfied: jsonpatch<2.0,>=1.33 in /usr/local/lib/python3.11/dist-packages (from langchain-core<1.0.0,>=0.3.45->langchain-community) (1.33)\n",
            "Requirement already satisfied: packaging<25,>=23.2 in /usr/local/lib/python3.11/dist-packages (from langchain-core<1.0.0,>=0.3.45->langchain-community) (24.2)\n",
            "Requirement already satisfied: typing-extensions>=4.7 in /usr/local/lib/python3.11/dist-packages (from langchain-core<1.0.0,>=0.3.45->langchain-community) (4.13.0)\n",
            "Requirement already satisfied: httpx<1,>=0.23.0 in /usr/local/lib/python3.11/dist-packages (from langsmith<0.4,>=0.1.125->langchain-community) (0.28.1)\n",
            "Requirement already satisfied: orjson<4.0.0,>=3.9.14 in /usr/local/lib/python3.11/dist-packages (from langsmith<0.4,>=0.1.125->langchain-community) (3.10.16)\n",
            "Requirement already satisfied: requests-toolbelt<2.0.0,>=1.0.0 in /usr/local/lib/python3.11/dist-packages (from langsmith<0.4,>=0.1.125->langchain-community) (1.0.0)\n",
            "Requirement already satisfied: zstandard<0.24.0,>=0.23.0 in /usr/local/lib/python3.11/dist-packages (from langsmith<0.4,>=0.1.125->langchain-community) (0.23.0)\n",
            "Requirement already satisfied: python-dotenv>=0.21.0 in /usr/local/lib/python3.11/dist-packages (from pydantic-settings<3.0.0,>=2.4.0->langchain-community) (1.1.0)\n",
            "Requirement already satisfied: charset-normalizer<4,>=2 in /usr/local/lib/python3.11/dist-packages (from requests<3,>=2->langchain-community) (3.4.1)\n",
            "Requirement already satisfied: idna<4,>=2.5 in /usr/local/lib/python3.11/dist-packages (from requests<3,>=2->langchain-community) (3.10)\n",
            "Requirement already satisfied: urllib3<3,>=1.21.1 in /usr/local/lib/python3.11/dist-packages (from requests<3,>=2->langchain-community) (2.3.0)\n",
            "Requirement already satisfied: certifi>=2017.4.17 in /usr/local/lib/python3.11/dist-packages (from requests<3,>=2->langchain-community) (2025.1.31)\n",
            "Requirement already satisfied: greenlet>=1 in /usr/local/lib/python3.11/dist-packages (from SQLAlchemy<3,>=1.4->langchain-community) (3.1.1)\n",
            "Requirement already satisfied: anyio in /usr/local/lib/python3.11/dist-packages (from httpx<1,>=0.23.0->langsmith<0.4,>=0.1.125->langchain-community) (4.9.0)\n",
            "Requirement already satisfied: httpcore==1.* in /usr/local/lib/python3.11/dist-packages (from httpx<1,>=0.23.0->langsmith<0.4,>=0.1.125->langchain-community) (1.0.7)\n",
            "Requirement already satisfied: h11<0.15,>=0.13 in /usr/local/lib/python3.11/dist-packages (from httpcore==1.*->httpx<1,>=0.23.0->langsmith<0.4,>=0.1.125->langchain-community) (0.14.0)\n",
            "Requirement already satisfied: jsonpointer>=1.9 in /usr/local/lib/python3.11/dist-packages (from jsonpatch<2.0,>=1.33->langchain-core<1.0.0,>=0.3.45->langchain-community) (3.0.0)\n",
            "Requirement already satisfied: annotated-types>=0.6.0 in /usr/local/lib/python3.11/dist-packages (from pydantic<3.0.0,>=2.7.4->langchain<1.0.0,>=0.3.21->langchain-community) (0.7.0)\n",
            "Requirement already satisfied: pydantic-core==2.33.0 in /usr/local/lib/python3.11/dist-packages (from pydantic<3.0.0,>=2.7.4->langchain<1.0.0,>=0.3.21->langchain-community) (2.33.0)\n",
            "Requirement already satisfied: typing-inspection>=0.4.0 in /usr/local/lib/python3.11/dist-packages (from pydantic<3.0.0,>=2.7.4->langchain<1.0.0,>=0.3.21->langchain-community) (0.4.0)\n",
            "Requirement already satisfied: mypy-extensions>=0.3.0 in /usr/local/lib/python3.11/dist-packages (from typing-inspect<1,>=0.4.0->dataclasses-json<0.7,>=0.5.7->langchain-community) (1.0.0)\n",
            "Requirement already satisfied: sniffio>=1.1 in /usr/local/lib/python3.11/dist-packages (from anyio->httpx<1,>=0.23.0->langsmith<0.4,>=0.1.125->langchain-community) (1.3.1)\n"
          ]
        }
      ]
    },
    {
      "cell_type": "code",
      "execution_count": 22,
      "metadata": {
        "colab": {
          "base_uri": "https://localhost:8080/"
        },
        "id": "Ht7xxTIYSN1-",
        "outputId": "325a9170-3147-4531-954c-a37c420cfcfa"
      },
      "outputs": [
        {
          "output_type": "stream",
          "name": "stdout",
          "text": [
            "[Document(metadata={'source': './tv-reviews.csv', 'row': 0}, page_content=\"TV Name: Imagix Pro\\nReview Title: Amazing Picture Quality\\nReview Rating: 9\\nReview Text: I recently purchased the Imagix Pro and I am blown away by its picture quality. The colors are vibrant and the images are crystal clear. It feels like I'm watching movies in a theater! The sound is also impressive, creating a truly immersive experience. Highly recommended!\"), Document(metadata={'source': './tv-reviews.csv', 'row': 1}, page_content=\"TV Name: Imagix Pro\\nReview Title: Impressive Features\\nReview Rating: 8\\nReview Text: The Imagix Pro is packed with impressive features that enhance my viewing experience. The smart functionality allows me to easily stream my favorite shows and movies. The remote control is user-friendly and has convenient shortcuts. The slim design is sleek and fits perfectly in my living room. The only downside is that the sound could be better, but overall, I'm satisfied.\"), Document(metadata={'source': './tv-reviews.csv', 'row': 2}, page_content=\"TV Name: Imagix Pro\\nReview Title: Unmatched Clarity\\nReview Rating: 10\\nReview Text: I cannot express enough how impressed I am with the clarity of the Imagix Pro. Every detail is so sharp and lifelike, it's like I can reach out and touch the images on the screen. The colors are vibrant and realistic, making everything look stunning. It truly enhances my movie-watching experience!\"), Document(metadata={'source': './tv-reviews.csv', 'row': 3}, page_content=\"TV Name: Imagix Pro\\nReview Title: Disappointing Sound Quality\\nReview Rating: 3\\nReview Text: While the picture quality of the Imagix Pro is excellent, I am disappointed with the sound quality. The volume lacks depth and the bass is almost non-existent. I had to invest in external speakers to enjoy a better audio experience. It's a shame that such a great TV falls short in this aspect.\"), Document(metadata={'source': './tv-reviews.csv', 'row': 4}, page_content='TV Name: Imagix Pro\\nReview Title: Easy Setup and Navigation\\nReview Rating: 9\\nReview Text: Setting up the Imagix Pro was a breeze. The instructions were clear and the TV guided me through the process smoothly. The interface is intuitive and easy to navigate. I love how seamless it is to switch between different apps and inputs. This TV has made my life so much simpler!'), Document(metadata={'source': './tv-reviews.csv', 'row': 5}, page_content=\"TV Name: Imagix Pro\\nReview Title: Stunning Design\\nReview Rating: 10\\nReview Text: The Imagix Pro not only offers exceptional performance but also boasts a stunning design. The ultra-thin bezels and sleek finish make it a focal point of my living room. The TV blends seamlessly with my decor. It's a true work of art!\"), Document(metadata={'source': './tv-reviews.csv', 'row': 6}, page_content='TV Name: Imagix Pro\\nReview Title: Outstanding Value for Money\\nReview Rating: 9\\nReview Text: The Imagix Pro is a fantastic value for money. Considering its high-quality performance, impressive features, and sleek design, it offers more bang for the buck compared to other TVs in the market. I am extremely satisfied with my purchase.'), Document(metadata={'source': './tv-reviews.csv', 'row': 7}, page_content=\"TV Name: Imagix Pro\\nReview Title: Unreliable Connectivity\\nReview Rating: 4\\nReview Text: One major issue I have encountered with the Imagix Pro is its unreliable connectivity. The Wi-Fi frequently disconnects, causing buffering issues during streaming. The TV also struggles to maintain a stable Bluetooth connection. It's frustrating, especially considering the price I paid.\"), Document(metadata={'source': './tv-reviews.csv', 'row': 8}, page_content=\"TV Name: Imagix Pro\\nReview Title: Perfect Gaming TV\\nReview Rating: 8\\nReview Text: As a gaming enthusiast, the Imagix Pro is a dream come true. The low input lag and high refresh rate ensure smooth gameplay. The colors are vibrant and the details are crisp, providing an immersive gaming experience. It's the perfect TV for all gamers out there!\"), Document(metadata={'source': './tv-reviews.csv', 'row': 9}, page_content='TV Name: Imagix Pro\\nReview Title: Exceptional Customer Service\\nReview Rating: 10\\nReview Text: I had a minor issue with my Imagix Pro, but the customer service team was exceptional. They were prompt in addressing my concern and guided me through the troubleshooting process. They even offered a quick replacement when the issue persisted. Kudos to their excellent support!'), Document(metadata={'source': './tv-reviews.csv', 'row': 10}, page_content=\"TV Name: VisionMax Ultra\\nReview Title: Unmatched Visuals\\nReview Rating: 10\\nReview Text: The VisionMax Ultra lives up to its name by delivering unmatched visuals. The 4K resolution and HDR technology bring every scene to life with incredible detail and vibrant colors. It's like having a cinema in my own home. I couldn't be happier with this TV!\"), Document(metadata={'source': './tv-reviews.csv', 'row': 11}, page_content=\"TV Name: VisionMax Ultra\\nReview Title: Disappointing Sound\\nReview Rating: 5\\nReview Text: While the picture quality of the VisionMax Ultra is exceptional, the sound quality falls short. The built-in speakers lack depth and the audio feels hollow. I had to connect external speakers to enjoy a fulfilling audio experience. It's a letdown considering the overall performance of the TV.\"), Document(metadata={'source': './tv-reviews.csv', 'row': 12}, page_content='TV Name: VisionMax Ultra\\nReview Title: Sleek and Modern\\nReview Rating: 9\\nReview Text: The VisionMax Ultra fits perfectly into my modern living room decor. The slim design and minimalistic bezels make it look sleek and stylish. The TV is a seamless addition to my home, and it never fails to impress my guests.'), Document(metadata={'source': './tv-reviews.csv', 'row': 13}, page_content=\"TV Name: VisionMax Ultra\\nReview Title: Impressive Smart Features\\nReview Rating: 8\\nReview Text: The VisionMax Ultra comes loaded with impressive smart features. The user interface is intuitive and easy to navigate. The TV seamlessly integrates with various streaming platforms, providing a hassle-free entertainment experience. It's like having a smart hub at my fingertips.\"), Document(metadata={'source': './tv-reviews.csv', 'row': 14}, page_content=\"TV Name: VisionMax Ultra\\nReview Title: Excellent Picture Clarity\\nReview Rating: 9\\nReview Text: The picture clarity of the VisionMax Ultra is simply outstanding. The images are sharp, and the colors are vivid. Whether I'm watching movies, sports, or playing games, the visuals are always stunning. This TV takes my viewing experience to a whole new level!\"), Document(metadata={'source': './tv-reviews.csv', 'row': 15}, page_content=\"TV Name: VisionMax Ultra\\nReview Title: Insufficient HDMI Ports\\nReview Rating: 6\\nReview Text: One downside of the VisionMax Ultra is the limited number of HDMI ports. With the increasing number of HDMI devices, it's frustrating to constantly switch cables. I wish there were more ports to accommodate all my devices without the need for an HDMI switcher.\"), Document(metadata={'source': './tv-reviews.csv', 'row': 16}, page_content='TV Name: VisionMax Ultra\\nReview Title: Easy Installation Process\\nReview Rating: 9\\nReview Text: Setting up the VisionMax Ultra was a breeze. The instructions provided were clear and concise, making the installation process quick and hassle-free. The TV also offers various mounting options, allowing me to choose the perfect placement for my viewing pleasure.'), Document(metadata={'source': './tv-reviews.csv', 'row': 17}, page_content=\"TV Name: VisionMax Ultra\\nReview Title: Immersive Audio Experience\\nReview Rating: 10\\nReview Text: The VisionMax Ultra delivers an immersive audio experience. The built-in speakers produce clear and well-balanced sound. The Dolby Atmos technology adds depth and dimension to the audio, making it feel like I'm in a theater. I'm thoroughly impressed!\"), Document(metadata={'source': './tv-reviews.csv', 'row': 18}, page_content=\"TV Name: VisionMax Ultra\\nReview Title: Unresponsive Remote Control\\nReview Rating: 4\\nReview Text: One major drawback of the VisionMax Ultra is the unresponsive remote control. It often takes multiple presses for the TV to register the command. It's frustrating, especially when navigating through menus or adjusting settings. The remote control definitely needs improvement.\"), Document(metadata={'source': './tv-reviews.csv', 'row': 19}, page_content='TV Name: VisionMax Ultra\\nReview Title: Value for Money\\nReview Rating: 8\\nReview Text: The VisionMax Ultra offers exceptional value for money. Compared to other high-end TVs in the market, it provides similar performance at a more affordable price. The picture quality and smart features make it a worthwhile investment. Highly recommended!')]\n"
          ]
        }
      ],
      "source": [
        "from langchain.chat_models import ChatOpenAI # this is the new import statement\n",
        "from langchain.prompts import PromptTemplate\n",
        "from langchain.output_parsers import PydanticOutputParser\n",
        "from pydantic import BaseModel, Field, NonNegativeInt\n",
        "from typing import List\n",
        "from random import sample\n",
        "from langchain.document_loaders.csv_loader import CSVLoader\n",
        "\n",
        "loader = CSVLoader(file_path='./tv-reviews.csv')\n",
        "data = loader.load()\n",
        "\n",
        "print(data)\n"
      ]
    },
    {
      "cell_type": "code",
      "execution_count": 23,
      "metadata": {
        "colab": {
          "base_uri": "https://localhost:8080/"
        },
        "id": "yicUhrD_SN1_",
        "outputId": "8f076776-3b00-434d-e4b9-f16cc405ca81"
      },
      "outputs": [
        {
          "output_type": "stream",
          "name": "stdout",
          "text": [
            "The output should be formatted as a JSON instance that conforms to the JSON schema below.\n",
            "\n",
            "As an example, for the schema {\"properties\": {\"foo\": {\"title\": \"Foo\", \"description\": \"a list of strings\", \"type\": \"array\", \"items\": {\"type\": \"string\"}}}, \"required\": [\"foo\"]}\n",
            "the object {\"foo\": [\"bar\", \"baz\"]} is a well-formatted instance of the schema. The object {\"properties\": {\"foo\": [\"bar\", \"baz\"]}} is not well-formatted.\n",
            "\n",
            "Here is the output schema:\n",
            "```\n",
            "{\"properties\": {\"positives\": {\"description\": \"index of a positive TV review, starting from 0\", \"items\": {\"minimum\": 0, \"type\": \"integer\"}, \"title\": \"Positives\", \"type\": \"array\"}, \"negatives\": {\"description\": \"index of a negative TV review, starting from 0\", \"items\": {\"minimum\": 0, \"type\": \"integer\"}, \"title\": \"Negatives\", \"type\": \"array\"}}, \"required\": [\"positives\", \"negatives\"]}\n",
            "```\n"
          ]
        }
      ],
      "source": [
        "\n",
        "model_name = 'gpt-3.5-turbo'\n",
        "# llm = OpenAI(model_name=model_name, temperature=0) - This has been replaced with the next line of code\n",
        "llm = ChatOpenAI()\n",
        "\n",
        "class ReviewSentiment(BaseModel):\n",
        "    positives: List[NonNegativeInt] = Field(description=\"index of a positive TV review, starting from 0\")\n",
        "    negatives: List[NonNegativeInt] = Field(description=\"index of a negative TV review, starting from 0\")\n",
        "\n",
        "parser = PydanticOutputParser(pydantic_object=ReviewSentiment)\n",
        "print(parser.get_format_instructions())\n"
      ]
    },
    {
      "cell_type": "code",
      "execution_count": 24,
      "metadata": {
        "colab": {
          "base_uri": "https://localhost:8080/"
        },
        "id": "cv7kGfxeSN1_",
        "outputId": "37373910-5565-4cbc-a08f-a6f8b240bdb9"
      },
      "outputs": [
        {
          "output_type": "stream",
          "name": "stdout",
          "text": [
            "\n",
            "    Classify TV reviews provided in the context into positive and negative. \n",
            "    Only use the reviews provided in this context, do not make up new reviews or use any existing information you know about these TVs. \n",
            "    If there are no positive or negative reviews, output an empty JSON array. \n",
            "\n",
            "The output should be formatted as a JSON instance that conforms to the JSON schema below.\n",
            "\n",
            "As an example, for the schema {\"properties\": {\"foo\": {\"title\": \"Foo\", \"description\": \"a list of strings\", \"type\": \"array\", \"items\": {\"type\": \"string\"}}}, \"required\": [\"foo\"]}\n",
            "the object {\"foo\": [\"bar\", \"baz\"]} is a well-formatted instance of the schema. The object {\"properties\": {\"foo\": [\"bar\", \"baz\"]}} is not well-formatted.\n",
            "\n",
            "Here is the output schema:\n",
            "```\n",
            "{\"properties\": {\"positives\": {\"description\": \"index of a positive TV review, starting from 0\", \"items\": {\"minimum\": 0, \"type\": \"integer\"}, \"title\": \"Positives\", \"type\": \"array\"}, \"negatives\": {\"description\": \"index of a negative TV review, starting from 0\", \"items\": {\"minimum\": 0, \"type\": \"integer\"}, \"title\": \"Negatives\", \"type\": \"array\"}}, \"required\": [\"positives\", \"negatives\"]}\n",
            "```\n",
            "Context: TV Name: VisionMax Ultra\n",
            "Review Title: Disappointing Sound\n",
            "Review Rating: 5\n",
            "Review Text: While the picture quality of the VisionMax Ultra is exceptional, the sound quality falls short. The built-in speakers lack depth and the audio feels hollow. I had to connect external speakers to enjoy a fulfilling audio experience. It's a letdown considering the overall performance of the TV.\n",
            "TV Name: VisionMax Ultra\n",
            "Review Title: Excellent Picture Clarity\n",
            "Review Rating: 9\n",
            "Review Text: The picture clarity of the VisionMax Ultra is simply outstanding. The images are sharp, and the colors are vivid. Whether I'm watching movies, sports, or playing games, the visuals are always stunning. This TV takes my viewing experience to a whole new level!\n",
            "TV Name: Imagix Pro\n",
            "Review Title: Stunning Design\n",
            "Review Rating: 10\n",
            "Review Text: The Imagix Pro not only offers exceptional performance but also boasts a stunning design. The ultra-thin bezels and sleek finish make it a focal point of my living room. The TV blends seamlessly with my decor. It's a true work of art!\n"
          ]
        }
      ],
      "source": [
        "\n",
        "prompt = PromptTemplate(\n",
        "    template=\"{question}\\n{format_instructions}\\nContext: {context}\",\n",
        "    input_variables=[\"question\", \"context\"],\n",
        "    partial_variables={\"format_instructions\": parser.get_format_instructions},\n",
        ")\n",
        "question = \"\"\"\n",
        "    Classify TV reviews provided in the context into positive and negative.\n",
        "    Only use the reviews provided in this context, do not make up new reviews or use any existing information you know about these TVs.\n",
        "    If there are no positive or negative reviews, output an empty JSON array.\n",
        "\"\"\"\n",
        "\n",
        "reviews_to_classify = sample(data, 3)\n",
        "context = '\\n'.join(review.page_content for review in reviews_to_classify)\n",
        "\n",
        "query = prompt.format(context = context, question = question)\n",
        "print(query)\n"
      ]
    },
    {
      "cell_type": "code",
      "execution_count": 25,
      "metadata": {
        "colab": {
          "base_uri": "https://localhost:8080/"
        },
        "id": "liMygsTOSN1_",
        "outputId": "db762efc-f442-4f4a-9570-09d5187a6521"
      },
      "outputs": [
        {
          "output_type": "stream",
          "name": "stdout",
          "text": [
            "{\n",
            "    \"positives\": [1, 2],\n",
            "    \"negatives\": [0]\n",
            "}\n",
            "positives=[1, 2] negatives=[0]\n",
            "Positives:\n",
            "TV Name: VisionMax Ultra\n",
            "Review Title: Excellent Picture Clarity\n",
            "Review Rating: 9\n",
            "Review Text: The picture clarity of the VisionMax Ultra is simply outstanding. The images are sharp, and the colors are vivid. Whether I'm watching movies, sports, or playing games, the visuals are always stunning. This TV takes my viewing experience to a whole new level!\n",
            "TV Name: Imagix Pro\n",
            "Review Title: Stunning Design\n",
            "Review Rating: 10\n",
            "Review Text: The Imagix Pro not only offers exceptional performance but also boasts a stunning design. The ultra-thin bezels and sleek finish make it a focal point of my living room. The TV blends seamlessly with my decor. It's a true work of art!\n",
            "Negatives:\n",
            "TV Name: VisionMax Ultra\n",
            "Review Title: Disappointing Sound\n",
            "Review Rating: 5\n",
            "Review Text: While the picture quality of the VisionMax Ultra is exceptional, the sound quality falls short. The built-in speakers lack depth and the audio feels hollow. I had to connect external speakers to enjoy a fulfilling audio experience. It's a letdown considering the overall performance of the TV.\n"
          ]
        }
      ],
      "source": [
        "output = llm.predict(query) #the \"predict\" has been added\n",
        "print(output)\n",
        "result = parser.parse(output)\n",
        "print(result)\n",
        "print(\"Positives:\\n\" + \"\\n\".join([reviews_to_classify[i].page_content for i in result.positives]))\n",
        "print(\"Negatives:\\n\" + \"\\n\".join([reviews_to_classify[i].page_content for i in result.negatives]))"
      ]
    }
  ],
  "metadata": {
    "kernelspec": {
      "display_name": "Python 3 (ipykernel)",
      "language": "python",
      "name": "python3"
    },
    "language_info": {
      "codemirror_mode": {
        "name": "ipython",
        "version": 3
      },
      "file_extension": ".py",
      "mimetype": "text/x-python",
      "name": "python",
      "nbconvert_exporter": "python",
      "pygments_lexer": "ipython3",
      "version": "3.10.13"
    },
    "colab": {
      "provenance": [],
      "include_colab_link": true
    }
  },
  "nbformat": 4,
  "nbformat_minor": 0
}