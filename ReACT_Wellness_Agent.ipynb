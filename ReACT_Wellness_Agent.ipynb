{
  "cells": [
    {
      "cell_type": "markdown",
      "metadata": {
        "id": "view-in-github",
        "colab_type": "text"
      },
      "source": [
        "<a href=\"https://colab.research.google.com/github/yilinmiao/genai-solution/blob/main/ReACT_Wellness_Agent.ipynb\" target=\"_parent\"><img src=\"https://colab.research.google.com/assets/colab-badge.svg\" alt=\"Open In Colab\"/></a>"
      ]
    },
    {
      "cell_type": "markdown",
      "metadata": {
        "id": "o_jK1BW9vsUu"
      },
      "source": [
        "Creating a wellness agent using ReACT Prompting techniques\n",
        "\n",
        "ReACT agent instructions is sending natural language, there is no right or wrong answer.  "
      ]
    },
    {
      "cell_type": "code",
      "execution_count": 5,
      "metadata": {
        "id": "ik-HKp17vsUw"
      },
      "outputs": [],
      "source": [
        "# Importing the library for OpenAI API\n",
        "from openai import OpenAI\n",
        "from google.colab import userdata\n",
        "\n",
        "client = OpenAI(\n",
        "    api_key=userdata.get('OPENAI_API_KEY'),\n",
        ")"
      ]
    },
    {
      "cell_type": "markdown",
      "metadata": {
        "id": "3Nx2jHDqvsUw"
      },
      "source": [
        "This example user prompt is related to wellness."
      ]
    },
    {
      "cell_type": "code",
      "execution_count": 6,
      "metadata": {
        "id": "h533uQO0vsUx",
        "outputId": "0debeb07-cdba-47b8-b7b1-65575496b110",
        "colab": {
          "base_uri": "https://localhost:8080/"
        }
      },
      "outputs": [
        {
          "output_type": "stream",
          "name": "stdout",
          "text": [
            "How can I know my diet is improving my wellness?\n"
          ]
        }
      ],
      "source": [
        "# Creating the prompt\n",
        "user_prompt = f\"How can I know my diet is improving my wellness?\"\n",
        "print(user_prompt)"
      ]
    },
    {
      "cell_type": "markdown",
      "metadata": {
        "id": "QIuaD5XXvsUx"
      },
      "source": [
        "An example solution to a ReACT system prompt for a wellness agent:"
      ]
    },
    {
      "cell_type": "code",
      "execution_count": 7,
      "metadata": {
        "id": "yeTu8inCvsUx",
        "outputId": "ff3ecfec-7620-441a-db88-a94ba8e47e0d",
        "colab": {
          "base_uri": "https://localhost:8080/"
        }
      },
      "outputs": [
        {
          "output_type": "stream",
          "name": "stdout",
          "text": [
            "Wellness Agent Response: \n",
            "(Thought) User is seeking guidance on how to assess if their diet is positively impacting their wellness.\n",
            "\n",
            "Collect[Details about user's current diet and wellness goals]:\n",
            "- What does a typical day of eating look like for you?\n",
            "- Are there specific health goals you are aiming to achieve with your diet?\n",
            "\n",
            "Provide[Wellness Information]:\n",
            "Improving your wellness through diet involves understanding the nutrients you consume and how they impact your overall health. Key indicators that your diet is benefiting your wellness include:\n",
            "1. Increased energy levels throughout the day\n",
            "2. Improved digestion and regular bowel movements\n",
            "3. Weight management or progress towards weight goals\n",
            "4. Stronger immune system with reduced frequency of sickness\n",
            "5. Clearer skin and healthier hair\n",
            "6. Enhanced mood and mental clarity\n",
            "\n",
            "Recommend[Plan]:\n",
            "1. Keep a food diary to track your meals and how they make you feel.\n",
            "2. Include a variety of fruits, vegetables, lean proteins, whole grains, and healthy fats in your diet.\n",
            "3. Listen to your body's hunger and fullness cues.\n",
            "4. Stay hydrated by drinking plenty of water.\n",
            "5. Consult with a registered dietitian for personalized advice and recommendations tailored to your specific wellness goals and dietary needs.\n",
            "\n",
            "How would you describe your current eating habits? What wellness improvements are you hoping to see from your diet?\n"
          ]
        }
      ],
      "source": [
        "# Function to call the OpenAI GPT-3.5 API\n",
        "def wellness_agent(user_prompt):\n",
        "    try:\n",
        "        # Calling the OpenAI API with a system message and our prompt in the user message content\n",
        "        response = client.chat.completions.create(\n",
        "          model=\"gpt-3.5-turbo\",\n",
        "          messages=[\n",
        "          {\n",
        "            \"role\": \"system\",\n",
        "            \"content\": \"\"\"Your goal is to improve the wellness of the user by interleaving thought, action, and observation steps.\n",
        "              (Thought Step) Begin by assessing the user's current wellness situation. Consider factors like their reported diet, exercise habits, mental health status, and any specific wellness goals they have shared.\n",
        "              (Action Steps) Collect[Data from user] - Engage with the user to gather essential wellness information, data, or metrics. This can include dietary habits, fitness routines, stress levels, sleep patterns, and wellness objectives.\n",
        "                             Provide[Wellness Information] - Based on the collected data and current wellness trends, offer knowledge and insights about nutrition, exercise regimes, mental wellness practices, and relevant biological or medical information that supports and improves wellness.\n",
        "                             Recommend[Plan] - Conclude with a tailored recommendation or a specific action plan that the user can implement to enhance their wellness. This could be a dietary change, a new exercise, a mental relaxation technique, or a suggestion to consult a healthcare professional for more personalized advice.\n",
        "              (Observation Step) Respond to the user with the Action Steps, and observe the user's response and engagement. Gauge their understanding and willingness to follow the suggestions. Be ready to offer further clarification or alternative recommendations if needed.\n",
        "              Repeat these steps N times until the user's wellness has improved.\n",
        "              Example:\n",
        "              [User Query] I'm feeling stressed and not sleeping well. What can I do to improve my sleep?\n",
        "              (Thought) User is experiencing stress and poor sleep, likely interconnected issues.\n",
        "              Collect[Details about user's current stressors and sleep habits],\n",
        "              Provide[Information on relaxation techniques and sleep hygiene practices].\n",
        "              Recommend)[Plan] Consider trying meditation before bed and establishing a regular sleep schedule.\n",
        "              What are some current stressors in your life? How many hours of sleep do you get each night?\n",
        "              Have you tried meditation before bed? Do you have a regular sleep schedule?\n",
        "              Consider trying meditation before bed and establishing a regular sleep schedule.\n",
        "              Let's create a plan to meditate for 10 minutes before bed each night this week.\n",
        "              What are some other wellness goals you have or wellness issues you are experiencing?\n",
        "              \"\"\"\n",
        "          },\n",
        "          {\n",
        "            \"role\": \"user\",\n",
        "            \"content\": user_prompt\n",
        "          }\n",
        "          ],\n",
        "        temperature=1,\n",
        "        max_tokens=512,\n",
        "        top_p=1,\n",
        "        frequency_penalty=0,\n",
        "        presence_penalty=0\n",
        "        )\n",
        "        # The response is a JSON object containing more information than the response. We want to return only the message content\n",
        "        return response.choices[0].message.content\n",
        "    except Exception as e:\n",
        "        return f\"An error occurred: {e}\"\n",
        "\n",
        "# Running the wellness agent\n",
        "run_wellness_agent = wellness_agent(user_prompt)\n",
        "\n",
        "# Printing the output.\n",
        "print(\"Wellness Agent Response: \")\n",
        "print(run_wellness_agent)"
      ]
    }
  ],
  "metadata": {
    "kernelspec": {
      "display_name": "Python 3 (ipykernel)",
      "language": "python",
      "name": "python3"
    },
    "language_info": {
      "codemirror_mode": {
        "name": "ipython",
        "version": 3
      },
      "file_extension": ".py",
      "mimetype": "text/x-python",
      "name": "python",
      "nbconvert_exporter": "python",
      "pygments_lexer": "ipython3",
      "version": "3.10.13"
    },
    "colab": {
      "provenance": [],
      "include_colab_link": true
    }
  },
  "nbformat": 4,
  "nbformat_minor": 0
}