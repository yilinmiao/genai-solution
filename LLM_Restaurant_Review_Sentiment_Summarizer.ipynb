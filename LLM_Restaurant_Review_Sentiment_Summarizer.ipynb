{
  "cells": [
    {
      "cell_type": "markdown",
      "metadata": {
        "id": "view-in-github",
        "colab_type": "text"
      },
      "source": [
        "<a href=\"https://colab.research.google.com/github/yilinmiao/genai-solution/blob/main/LLM_Restaurant_Review_Sentiment_Summarizer.ipynb\" target=\"_parent\"><img src=\"https://colab.research.google.com/assets/colab-badge.svg\" alt=\"Open In Colab\"/></a>"
      ]
    },
    {
      "cell_type": "markdown",
      "metadata": {
        "id": "sFz2gSopdCIv"
      },
      "source": [
        "In this exercise, you are tasked with creating an application that aggregates and summarizes restaurant reviews. Users will provide the name of a restaurant and the type of cuisine, and the application will generate a summary of the most prevalent sentiments found in online reviews for that specific restaurant and cuisine type.\n",
        "\n",
        "**Solution**\n",
        "\n",
        "Develop a prompt template that guides the LLM to generate a concise, sentiment-focused summary based on user inputs: the restaurant name and the type of cuisine.\n",
        "\n",
        "This is only an example solution.  Because prompts are natural language and the model's output is variable, your prompt may be different and you'll recieve different responses.\n",
        "\n",
        "Experiment with different inputs and prompts to evaluate the model's response."
      ]
    },
    {
      "cell_type": "markdown",
      "metadata": {
        "id": "4vsKjKb8dCIv"
      },
      "source": [
        "**Understand the User Inputs**\n",
        "\n",
        "Identify the essential user inputs for this task. In this scenario, you need:\n",
        "- Restaurant Name\n",
        "- Cuisine Type\n",
        "- Can you think of others to make your prompt more specific or flexible?"
      ]
    },
    {
      "cell_type": "code",
      "execution_count": 1,
      "metadata": {
        "id": "4_8rg3bqdCIv"
      },
      "outputs": [],
      "source": [
        "# Create variables to store the user inputs\n",
        "restaurant_name = \"Alinea\"\n",
        "cuisine_type = \"new american\""
      ]
    },
    {
      "cell_type": "markdown",
      "metadata": {
        "id": "UonapCVzdCIv"
      },
      "source": [
        "**Craft the Prompt**\n",
        "\n",
        "Compose a clear, concise instruction that will direct the LLM to generate a sentiment-focused summary for the specified restaurant and cuisine.\n",
        " - The prompt should be specific enough to guide the LLM towards the desired output\n",
        " - But also flexible enough to handle a range of restaurants and cuisines."
      ]
    },
    {
      "cell_type": "code",
      "execution_count": 2,
      "metadata": {
        "id": "8NndBtq-dCIv"
      },
      "outputs": [],
      "source": [
        "prompt = \"Provide a summary of customer sentiments for Alinea, focusing on their new american dishes. Highlight key sentiments and mention any standout dishes or services. \""
      ]
    },
    {
      "cell_type": "markdown",
      "metadata": {
        "id": "rBn9DAQvdCIw"
      },
      "source": [
        "**Create the Prompt Template**\n",
        "\n",
        "Design a template that integrates the user inputs into the LLM prompt.\n",
        "Use brackets {} to denote where the user inputs should be placed. This makes the template dynamic, allowing for different restaurant names and cuisine types to be inserted into the prompt."
      ]
    },
    {
      "cell_type": "code",
      "execution_count": 3,
      "metadata": {
        "colab": {
          "base_uri": "https://localhost:8080/"
        },
        "id": "J6Xq_gLbdCIw",
        "outputId": "7d83f1bc-cd74-44c9-a4b8-7ecc59241375"
      },
      "outputs": [
        {
          "output_type": "stream",
          "name": "stdout",
          "text": [
            "Provide a summary of customer sentiments for Alinea, focusing on their new american dishes. Highlight key sentiments and mention any standout dishes or services. \n"
          ]
        }
      ],
      "source": [
        "prompt_template = f\"Provide a summary of customer sentiments for {restaurant_name}, focusing on their {cuisine_type} dishes. Highlight key sentiments and mention any standout dishes or services. \"\n",
        "print(prompt_template)"
      ]
    },
    {
      "cell_type": "code",
      "source": [
        "from google.colab import userdata"
      ],
      "metadata": {
        "id": "-oP69ak2orZY"
      },
      "execution_count": 4,
      "outputs": []
    },
    {
      "cell_type": "code",
      "execution_count": 6,
      "metadata": {
        "id": "_ZYKA9fCdCIw"
      },
      "outputs": [],
      "source": [
        "from openai import OpenAI\n",
        "\n",
        "client = OpenAI(\n",
        "    # defaults to os.environ.get(\"OPENAI_API_KEY\")\n",
        "    api_key=userdata.get('OPENAI_API_KEY'),\n",
        ")"
      ]
    },
    {
      "cell_type": "markdown",
      "metadata": {
        "id": "66gbtadHdCIw"
      },
      "source": [
        "System messages describe the behavior of the AI assistant.\n",
        "\n",
        "User messages contain your prompt, or instructions for the model"
      ]
    },
    {
      "cell_type": "code",
      "execution_count": 7,
      "metadata": {
        "colab": {
          "base_uri": "https://localhost:8080/"
        },
        "id": "lDAfyUbDdCIw",
        "outputId": "05fac8bc-4ef3-43e0-f1d5-746224aea19a"
      },
      "outputs": [
        {
          "output_type": "stream",
          "name": "stdout",
          "text": [
            "Generated review:\n",
            "Alinea, known for its innovative and unique approach to New American cuisine, has garnered a lot of attention from customers. Many have praised the inventive dishes, noting the creative flavor combinations and stunning presentation. The standout dishes that have received high praise include the black truffle explosion, wagyu beef with smoked potato and black garlic, and the deconstructed apple pie.\n",
            "\n",
            "Customers have also appreciated the impeccable service at Alinea, with many mentioning the knowledgeable and attentive staff who enhance the overall dining experience. The attention to detail and the level of care in each dish have left a lasting impression on diners, making Alinea a memorable dining destination for those looking for a one-of-a-kind culinary experience.\n"
          ]
        }
      ],
      "source": [
        "# Function to call the OpenAI GPT-3.5 API\n",
        "def generate_restaurant_review(prompt_template):\n",
        "    try:\n",
        "        # Calling the OpenAI API with a system message and our prompt in the user message content\n",
        "        # Use openai.ChatCompletion.create for openai < 1.0\n",
        "        # openai.chat.completions.create for openai > 1.0\n",
        "        response = client.chat.completions.create(\n",
        "          model=\"gpt-3.5-turbo\",\n",
        "          messages=[\n",
        "          {\n",
        "            \"role\": \"system\",\n",
        "            \"content\": \"You are a restaurant critic. You are writing about reviews of restaurants. \"\n",
        "          },\n",
        "          {\n",
        "            \"role\": \"user\",\n",
        "            \"content\": prompt_template\n",
        "          }\n",
        "          ],\n",
        "        temperature=1,\n",
        "        max_tokens=256,\n",
        "        top_p=1,\n",
        "        frequency_penalty=0,\n",
        "        presence_penalty=0\n",
        "        )\n",
        "        # The response is a JSON object containing more information than the generated review. We want to return only the message content\n",
        "        return response.choices[0].message.content\n",
        "    except Exception as e:\n",
        "        return f\"An error occurred: {e}\"\n",
        "\n",
        "# Generating the response from the model\n",
        "review_summary = generate_restaurant_review(prompt_template)\n",
        "\n",
        "# Printing the output.\n",
        "print(\"Generated review:\")\n",
        "print(review_summary)"
      ]
    },
    {
      "cell_type": "markdown",
      "metadata": {
        "id": "amgy3UyedCIw"
      },
      "source": [
        "This solution generated the following response:\n",
        "\n",
        "\"Generated review:\n",
        "\n",
        "Alinea, known for its innovative and contemporary dining experience, has been receiving an overwhelming amount of positive customer sentiments for its new American dishes. Patrons have been left impressed with the restaurant's unique takes on traditional American flavors, resulting in a remarkable and memorable dining experience.\n",
        "\n",
        "One key sentiment expressed by customers is the exceptional creativity and execution of Alinea's new American dishes. Diners are raving about the innovative combinations of ingredients and the expertly crafted flavors that are both surprising and delightful. The restaurant's ability to bring out the essence of traditional American cuisine while adding its own modern twist has been widely praised.\n",
        "\n",
        "Standout dishes at Alinea include the Roasted Beet Salad with goat cheese foam and candied pecans. This dish has received rave reviews for its beautiful presentation and incredible balance of flavors. The Chef's interpretation of classic beef and potatoes with the Beef Short Rib with truffle pomme purée has also impressed many customers, who have remarked on the tenderness of the meat and the heavenly truffle-infused mash.\n",
        "\n",
        "In addition to the outstanding dishes, patrons have highlighted the impeccable service at Alinea. The staff is knowledgeable, attentive, and goes above and beyond to ensure that each guest has an unforgettable dining experience. From guiding customers through the culinary\"\n",
        "\n",
        "- The response is truncated due to max_tokens value, it limits the response of the model to 256 tokens.   "
      ]
    }
  ],
  "metadata": {
    "kernelspec": {
      "display_name": "Python 3 (ipykernel)",
      "language": "python",
      "name": "python3"
    },
    "language_info": {
      "codemirror_mode": {
        "name": "ipython",
        "version": 3
      },
      "file_extension": ".py",
      "mimetype": "text/x-python",
      "name": "python",
      "nbconvert_exporter": "python",
      "pygments_lexer": "ipython3",
      "version": "3.10.13"
    },
    "colab": {
      "provenance": [],
      "include_colab_link": true
    }
  },
  "nbformat": 4,
  "nbformat_minor": 0
}